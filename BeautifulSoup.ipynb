{
 "cells": [
  {
   "cell_type": "code",
   "execution_count": 82,
   "id": "eda4a8a3",
   "metadata": {},
   "outputs": [],
   "source": [
    "import requests\n",
    "from bs4 import BeautifulSoup"
   ]
  },
  {
   "cell_type": "code",
   "execution_count": 85,
   "id": "53322166",
   "metadata": {},
   "outputs": [
    {
     "name": "stdout",
     "output_type": "stream",
     "text": [
      "[360, 94, 15, 63, 103, 117, 195, 55, 85, 79, 165, 9, 42, 27, 57, 352, 251, 53, 251, 28, 41, 275, 5, 40, 9, 14, 29, 74, 36]\n"
     ]
    }
   ],
   "source": [
    "res = requests.get('https://news.ycombinator.com/news')\n",
    "soup = BeautifulSoup(res.text, 'html.parser')\n",
    "\n",
    "votes = soup.select('.score')\n",
    "\n",
    "filtered_votes = []\n",
    "for vote in votes:\n",
    "    score_text = vote.getText()\n",
    "    score = int(score_text.split()[0]) \n",
    "    filtered_votes.append(score)\n",
    "\n",
    "print(filtered_votes)"
   ]
  },
  {
   "cell_type": "code",
   "execution_count": 86,
   "id": "5ebdb130",
   "metadata": {},
   "outputs": [
    {
     "name": "stdout",
     "output_type": "stream",
     "text": [
      "['https://openai.com/blog/introducing-chatgpt-enterprise', 'https://www.tindie.com/products/aaafnraa/serial-adapter-reboot-controller-for-apple-m1m2/', 'https://applied-langua.ge/~hayley/swcl-gc.pdf', 'https://xeiaso.net/talks/unix-philosophy-logical-extreme-wasm', 'https://lfortran.org/', 'https://hakibenita.com/postgresql-unused-index-size', 'https://www.indeed.com/job/senior-full-stack-engineer-c38525c084b29fa2?_gl=1*1s9dm2h*_gcl_au*NjI1Nzg0NDk2LjE2OTE0NDA1MDE.', 'https://trohan.com/2023/08/20/raise-less-build-more/', 'https://arstechnica.com/culture/2023/08/the-strange-secretive-world-of-north-korean-science-fiction/', 'https://www.sec.gov/news/press-release/2023-163', 'https://qz.com/3m-is-paying-5-5-billion-to-resolve-300-000-lawsuits-o-1850780085', 'https://www.oneearth.org/bioregions-2023/', 'https://www.downtowndougbrown.com/2023/08/how-to-create-a-qt-5-arm-intel-universal-binary-for-mac/', 'https://andreabergia.com/blog/2023/08/a-jvm-in-rust-part-5-executing-instructions/', 'https://miles.land/posts/classmates-legal-threat-fizz-defcon/', 'https://southseattleemerald.com/2023/08/26/can-a-worker-owned-restaurant-work/', 'https://bit.kevinslin.com/p/opentelemetry-in-2023', 'https://tinysubversions.com/game/utopia/', 'https://phys.org/news/2023-08-trees-seeds-secrets-mast-seeding.html', 'https://vitalik.ca/general/2023/08/16/communitynotes.html', 'http://spoonplanet.com/', 'https://www.moddb.com/mods/dark-messiah-co-op/news/a-call-to-dark-messiah-arms', 'https://www.si.edu/newsdesk/releases/ancient-popcorn-discovered-peru', 'https://a17t.miles.land/', 'https://docs.confident-ai.com/docs/tutorials/evaluating-llamaindex', 'https://www.npr.org/sections/thesalt/2015/08/12/430075644/dining-like-darwin-when-scientists-swallow-their-subjects', 'https://seacrew.github.io/helm-compose/']\n"
     ]
    }
   ],
   "source": [
    "noreferrer_links = []\n",
    "\n",
    "for a_tag in soup.find_all('a', rel='noreferrer'):\n",
    "    href = a_tag.get('href')\n",
    "    noreferrer_links.append(href)\n",
    "\n",
    "print(noreferrer_links)"
   ]
  },
  {
   "cell_type": "code",
   "execution_count": 76,
   "id": "847425e2",
   "metadata": {},
   "outputs": [
    {
     "name": "stdout",
     "output_type": "stream",
     "text": [
      "['The first conformant M1 GPU driver', 'GPT-3.5 Turbo fine-tuning and API updates', 'Eye scans detect signs of Parkinson’s disease up to seven years before diagnosis', 'Writing a Package Manager', 'I only lost 10 minutes of data, thanks to ZFS', 'How to Solve It (1945)', 'Hogfish ‘See’ with Their Skin, Even When They’re Dead', 'An Old Conjecture Falls, Making Spheres a Lot More Complicated', 'Structured logging with slog', 'PostgreSQL Lock Conflicts', 'Asyncio, twisted, tornado, gevent walk into a bar', 'Aeron – Proof of the benefits of open development', 'Thoughts on Flash (2010)', 'My thoughts on the 2023 FTC robotics season', 'My Pebble mood tracker app from 2016', 'OpenSAFELY is a secure, open-source platform for analysis of health records data', 'The new science of meditation', 'Frog Galvanoscope', 'Your brain on emoji', 'What happened to Wirecutter?', 'Skiff – Privacy-first end-to-end encrypted email', 'When Trucks Fly', 'Mastering Emacs', 'First ever remains of a dicraeosaurid sauropod unearthed in India', 'Show HN: FlakeHub – Discover and publish Nix flakes', 'Programmers should not call themselves engineers (2015)', 'Compile-Time Checked Truth Tables', 'LibreOffice 24.2 Will Succeed LibreOffice 7.6', 'Transactions in a Microservice World']\n"
     ]
    }
   ],
   "source": [
    "noreferrer_titles = []\n",
    "\n",
    "for a_tag in soup.find_all('a', rel='noreferrer'):\n",
    "    title = a_tag.get_text()\n",
    "    noreferrer_titles.append(title)\n",
    "\n",
    "print(noreferrer_titles)\n"
   ]
  },
  {
   "cell_type": "code",
   "execution_count": 81,
   "id": "4ea17787",
   "metadata": {},
   "outputs": [
    {
     "name": "stdout",
     "output_type": "stream",
     "text": [
      "[1207, 324, 248, 224, 214, 142, 141, 139, 139, 116, 107, 75, 74, 69, 62, 62, 60, 59, 50, 47, 46, 45, 42, 26, 26, 21, 13, 9, 4]\n"
     ]
    }
   ],
   "source": [
    "sortedvotes = sorted(filtered_votes, reverse=True)\n",
    "print(sortedvotes)"
   ]
  },
  {
   "cell_type": "code",
   "execution_count": null,
   "id": "a6702649",
   "metadata": {},
   "outputs": [],
   "source": []
  }
 ],
 "metadata": {
  "kernelspec": {
   "display_name": "Python 3 (ipykernel)",
   "language": "python",
   "name": "python3"
  },
  "language_info": {
   "codemirror_mode": {
    "name": "ipython",
    "version": 3
   },
   "file_extension": ".py",
   "mimetype": "text/x-python",
   "name": "python",
   "nbconvert_exporter": "python",
   "pygments_lexer": "ipython3",
   "version": "3.9.13"
  }
 },
 "nbformat": 4,
 "nbformat_minor": 5
}
